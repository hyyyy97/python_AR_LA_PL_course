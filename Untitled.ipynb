{
 "cells": [
  {
   "cell_type": "code",
   "execution_count": 9,
   "id": "a8104deb-a0d1-4240-8d05-c6566798038a",
   "metadata": {},
   "outputs": [
    {
     "name": "stdout",
     "output_type": "stream",
     "text": [
      "加： 7\n",
      "减： 1\n",
      "乘： 12\n",
      "除： 0.5\n",
      "整除： 0\n",
      "余数： 1\n",
      "幂： 9\n"
     ]
    }
   ],
   "source": [
    "1#print()\n",
    "print(\"加：\",4+3) \n",
    "print(\"减：\",3-2)\n",
    "print(\"乘：\",3*4)\n",
    "print(\"除：\", 3/6)\n",
    "print(\"整除：\", 3//5)\n",
    "print(\"余数：\", 7%2)\n",
    "print(\"幂：\",3**2)\n"
   ]
  },
  {
   "cell_type": "code",
   "execution_count": 21,
   "id": "e2f8c31c-d614-4f1f-801a-a28db7f27552",
   "metadata": {},
   "outputs": [
    {
     "name": "stdout",
     "output_type": "stream",
     "text": [
      "['d', 'e', 'f', 'g', 'h', 'i', 'j', 'k', 'l', 'm']\n",
      "__________________________________________________\n",
      "[3:6]->['g', 'h', 'i']\n",
      "[-3:-1]->['k', 'l']\n",
      "[-3:]->['k', 'l', 'm']\n",
      "[:3]->['d', 'e', 'f']\n",
      "[:]->['d', 'e', 'f', 'g', 'h', 'i', 'j', 'k', 'l', 'm']\n"
     ]
    }
   ],
   "source": [
    "2 #list 建立列表。range(start,stop,[,step])建立区间。\n",
    "lst_s=list(map(chr,range(100,110))) \n",
    "print(lst_s)\n",
    "print(\"_\"*50)\n",
    "print(\"[3:6]->{}\".format(lst_s[3:6]))\n",
    "print(\"[-3:-1]->{}\".format(lst_s[-3:-1]))\n",
    "print(\"[-3:]->{}\".format(lst_s[-3:]))\n",
    "print(\"[:3]->{}\".format(lst_s[:3]))\n",
    "print(\"[:]->{}\".format(lst_s[:]))\n"
   ]
  },
  {
   "cell_type": "code",
   "execution_count": 22,
   "id": "538aefef-a02e-4438-8416-415b80e886b1",
   "metadata": {},
   "outputs": [
    {
     "name": "stdout",
     "output_type": "stream",
     "text": [
      "['d', 'e', 'f', 'g', 'h', 'i', 'j', 'k', 'l', 'm']\n",
      "__________________________________________________\n",
      "lst_s[5]=99->['d', 'e', 'f', 'g', 'h', 99, 'j', 'k', 'l', 'm']\n",
      "lst_s+[None]*6->['d', 'e', 'f', 'g', 'h', 99, 'j', 'k', 'l', 'm', None, None, None, None, None, None]\n",
      "lst_none[13]=2015->['d', 'e', 'f', 'g', 'h', 99, 'j', 'k', 'l', 'm', None, None, None, 2015, None, None]\n",
      "lst_none[-6:-3]=list(range(100,104,2))->['d', 'e', 'f', 'g', 'h', 99, 'j', 'k', 'l', 'm', 100, 102, 2015, None, None]\n",
      "lst_none[1:1]=[0,0,0,12]->['d', 0, 0, 0, 12, 'e', 'f', 'g', 'h', 99, 'j', 'k', 'l', 'm', 100, 102, 2015, None, None]\n",
      "del lst_none[-2:]->['d', 0, 0, 0, 12, 'e', 'f', 'g', 'h', 99, 'j', 'k', 'l', 'm', 100, 102, 2015]\n"
     ]
    }
   ],
   "source": [
    "print(lst_s)\n",
    "print(\"_\"*50)\n",
    "lst_s[5]=99 #元素赋值\n",
    "print(\"lst_s[5]=99->{}\".format(lst_s))\n",
    "lst_none=lst_s+[None]*6\n",
    "print(\"lst_s+[None]*6->{}\".format(lst_none))\n",
    "lst_none[13]=2015\n",
    "print(\"lst_none[13]=2015->{}\".format(lst_none))\n",
    "lst_none[-6:-3]=list(range(100,104,2)) #分片赋值\n",
    "print(\"lst_none[-6:-3]=list(range(100,104,2))->{}\".format(lst_none))\n",
    "lst_none[1:1]=[0,0,0,12]\n",
    "print(\"lst_none[1:1]=[0,0,0,12]->{}\".format(lst_none))\n",
    "del lst_none[-2:] #删除元素\n",
    "print(\"del lst_none[-2:]->{}\".format(lst_none))\n"
   ]
  },
  {
   "cell_type": "code",
   "execution_count": 23,
   "id": "87909015-e009-4b83-9e74-fd36ad0a307a",
   "metadata": {},
   "outputs": [
    {
     "name": "stdout",
     "output_type": "stream",
     "text": [
      "['d', 'e', 'f', 'g', 'h']\n",
      "__________________________________________________\n",
      "lst_s_2.append(99)->['d', 'e', 'f', 'g', 'h', 99]\n",
      "lst_s_2.append(list(range(50,80,5)))->['d', 'e', 'f', 'g', 'h', 99, [50, 55, 60, 65, 70, 75]]\n",
      "lst_s_2.extend(lst_spechars)->['d', 'e', 'f', 'g', 'h', 99, [50, 55, 60, 65, 70, 75], '*', ')', '*']\n",
      "lst_s_2.count('*')=2\n",
      "lst_s_2.index('e')=1\n",
      "lst_s_2.insert(2,[1000,1200,1500])->['d', 'e', [1000, 1200, 1500], 'f', 'g', 'h', 99, [50, 55, 60, 65, 70, 75], '*', ')', '*']\n",
      "lst_s_2.pop(7)_popup->[50, 55, 60, 65, 70, 75]\n",
      "lst_s_2.pop(7)_retention->['d', 'e', [1000, 1200, 1500], 'f', 'g', 'h', 99, '*', ')', '*']\n",
      "lst_s_2.remove('*')_retention->['d', 'e', [1000, 1200, 1500], 'f', 'g', 'h', 99, ')', '*']\n",
      "list_n_2.sort()->[2, 3, 4, 6, 42, 95]\n"
     ]
    }
   ],
   "source": [
    "lst_s_2=list(map(chr,range(100,105)))\n",
    "print(lst_s_2)\n",
    "print(\"_\"*50)\n",
    "lst_s_2.append(99)\n",
    "print(\"lst_s_2.append(99)->{}\".format(lst_s_2))\n",
    "lst_s_2.append(list(range(50,80,5)))\n",
    "print(\"lst_s_2.append(list(range(50,80,5)))->{}\".format(lst_s_2))\n",
    "lst_spechars=['*',')','*']\n",
    "lst_s_2.extend(lst_spechars)\n",
    "print(\"lst_s_2.extend(lst_spechars)->{}\".format(lst_s_2))\n",
    "print(\"lst_s_2.count('*')={}\".format(lst_s_2.count('*')))\n",
    "print(\"lst_s_2.index('e')={}\".format(lst_s_2.index('e')))\n",
    "lst_s_2.insert(2,[1000,1200,1500])\n",
    "print(\"lst_s_2.insert(2,[1000,1200,1500])->{}\".format(lst_s_2))\n",
    "print(\"lst_s_2.pop(7)_popup->{}\".format(lst_s_2.pop(7)))\n",
    "print(\"lst_s_2.pop(7)_retention->{}\".format(lst_s_2))\n",
    "lst_s_2.remove('*')\n",
    "print(\"lst_s_2.remove('*')_retention->{}\".format(lst_s_2))\n",
    "list_n_2=[2,42,6,95,4,3]\n",
    "list_n_2.sort()\n",
    "print(\"list_n_2.sort()->{}\".format(list_n_2))\n"
   ]
  },
  {
   "cell_type": "code",
   "execution_count": 27,
   "id": "49c4c74a-d72d-47f7-89c0-688dba7590e1",
   "metadata": {},
   "outputs": [
    {
     "name": "stdout",
     "output_type": "stream",
     "text": [
      "tuple_1=2,3,5,->(2, 3, 5)\n",
      "3*(20*3,)->(60, 60, 60)\n",
      "tuple((5,8,9))->(5, 8, 9)\n",
      "tuple([5,8,9])->(5, 8, 9)\n"
     ]
    }
   ],
   "source": [
    "3#元组的语法为tuple=(value1,value2,value3,..)\n",
    "tuple_1=2,3,5,\n",
    "print(\"tuple_1=2,3,5,->{}\".format(tuple_1))\n",
    "print(\"3*(20*3,)->{}\".format(3*(20*3,)))\n",
    "print(\"tuple((5,8,9))->{}\".format(tuple((5,8,9)))) #用()\n",
    "print(\"tuple([5,8,9])->{}\".format(tuple([5,8,9]))) #用[]\n"
   ]
  },
  {
   "cell_type": "markdown",
   "id": "4d85bb9d-0939-4832-8b84-4a4e3db1f3df",
   "metadata": {},
   "source": []
  },
  {
   "cell_type": "code",
   "execution_count": 4,
   "id": "642de646-a8a5-4294-9ec0-c981b29d67a4",
   "metadata": {},
   "outputs": [
    {
     "name": "stdout",
     "output_type": "stream",
     "text": [
      "func_2=1\n"
     ]
    }
   ],
   "source": [
    "x,y,z=1,2,3 \n",
    "func_2=2*x+3*y-z\n",
    "print(\"func_2={}\".format(x,y,z,func_2))"
   ]
  },
  {
   "cell_type": "code",
   "execution_count": 6,
   "id": "75e5f84e-46e7-4581-8e79-51c00df0ac5e",
   "metadata": {},
   "outputs": [
    {
     "name": "stdout",
     "output_type": "stream",
     "text": [
      "tuple_1=2,3,5,->(2, 3, 5)\n",
      "3*(20*3,)->(60, 60, 60)\n",
      "tuple((5,8,9))->(5, 8, 9)\n",
      "tuple([5,8,9])->(5, 8, 9)\n"
     ]
    }
   ],
   "source": [
    "#元组和列表类似，只是元组不能够修改，但是可以提取项值。\n",
    "#元组的语法为tuple=(value1,value2,value3,..)，用小括号括起，中间与列表一样由“，”号隔开。最后也需要点逗号。\n",
    "tuple_1=2,3,5,\n",
    "print(\"tuple_1=2,3,5,->{}\".format(tuple_1))\n",
    "print(\"3*(20*3,)->{}\".format(3*(20*3,)))\n",
    "print(\"tuple((5,8,9))->{}\".format(tuple((5,8,9)))) #用()\n",
    "print(\"tuple([5,8,9])->{}\".format(tuple([5,8,9]))) #用[]\n"
   ]
  },
  {
   "cell_type": "code",
   "execution_count": 7,
   "id": "2c3d6199-8ce2-4ccf-96d6-8342c38d45b7",
   "metadata": {},
   "outputs": [
    {
     "name": "stdout",
     "output_type": "stream",
     "text": [
      "items->[(0, [0, 1, 2, 3, 4]), (1, [[112, 174, 103]]), (2, 'python')]\n",
      "dic=dict(items)->{0: [0, 1, 2, 3, 4], 1: [[112, 174, 103]], 2: 'python'}\n",
      "dic[1]->[[112, 174, 103]]\n"
     ]
    }
   ],
   "source": [
    "#字典是Python中另一种数据结构，语法结构为dictionary={ke0:value0,key1:value1,key2:value2,...}\n",
    "import random\n",
    "items=[(0,[i for i in range(5)]),(1,[random.sample(list(range(100,200,1)),3)]),(2,'python')] #[i for i in range(5)] 为列表推导式 list comprehension/derivation\n",
    "print(\"items->{}\".format(items))\n",
    "dic=dict(items)\n",
    "print(\"dic=dict(items)->{}\".format(dic))\n",
    "print(\"dic[1]->{}\".format(dic[1]))\n"
   ]
  },
  {
   "cell_type": "code",
   "execution_count": 9,
   "id": "6ae1ad8b-9370-46a5-81b8-b196f1cb785f",
   "metadata": {},
   "outputs": [
    {
     "name": "stdout",
     "output_type": "stream",
     "text": [
      "lst_s_3=list(\"Bye Python!\")->['B', 'y', 'e', ' ', 'P', 'y', 't', 'h', 'o', 'n', '!']\n",
      "\"Bye\"+\" Python!\"->Bye Python!\n",
      "\"+\".join(str(123456))->1+2+3+4+5+6\n",
      "len(\"Bye Python!\")->11\n",
      "coordinates.split(\",\")->['120.132007', '30.300508', '9.7']\n",
      "eval(coordinates)->(120.132007, 30.300508, 9.7)\n",
      "\"Bye Python!\".lower()->bye python!\n",
      "\"Bye Python!\".upper()->BYE PYTHON!\n",
      "\"Bye Python!\"[6:]->thon!\n",
      "\"    Bye Python!    \".strip()->Bye Python!\n",
      "\"Bye Python!\".replace(\"Python\",\"Grasshopper\")->Bye Grasshopper!\n",
      "Bye_lst.sort()>[' ', '!', 'B', 'P', 'e', 'h', 'n', 'o', 't', 'y', 'y']\n",
      "\"Bye Python!\".find(\"Py\")->4\n"
     ]
    }
   ],
   "source": [
    "lst_s_3=list(\"Bye Python!\")\n",
    "print(\"lst_s_3=list(\\\"Bye Python!\\\")->{}\".format(lst_s_3)) #\"\\\" escape character\n",
    "print(\"\\\"Bye\\\"+\\\" Python!\\\"->{}\".format(\"Bye\"+\" Python!\"))\n",
    "print(\"\\\"+\\\".join(str(123456))->{}\".format(\"+\".join(str(123456))))\n",
    "print(\"len(\\\"Bye Python!\\\")->{}\".format(len(\"Bye Python!\")))\n",
    "coordinates=\"120.132007,30.300508,9.7\"\n",
    "print(\"coordinates.split(\\\",\\\")->{}\".format(coordinates.split(\",\")))\n",
    "print(\"eval(coordinates)->{}\".format(eval(coordinates))) #通常用eval()方法将字符串，转换为对应数值形式；\n",
    "print(\"\\\"Bye Python!\\\".lower()->{}\".format(\"Bye Python!\".lower()))\n",
    "print(\"\\\"Bye Python!\\\".upper()->{}\".format(\"Bye Python!\".upper()))\n",
    "print(\"\\\"Bye Python!\\\"[6:]->{}\".format(\"Bye Python!\"[6:]))\n",
    "print(\"\\\"    Bye Python!    \\\".strip()->{}\".format(\"    Bye Python!    \".strip()))\n",
    "print(\"\\\"Bye Python!\\\".replace(\\\"Python\\\",\\\"Grasshopper\\\")->{}\".format(\"Bye Python!\".replace(\"Python\",\"Grasshopper\")))\n",
    "hello_lst=list(\"Bye Python!\")\n",
    "hello_lst.sort()\n",
    "print(\"Bye_lst.sort()>{}\".format(hello_lst))\n",
    "print(\"\\\"Bye Python!\\\".find(\\\"Py\\\")->{}\".format(\"Bye Python!\".find(\"Py\")))\n"
   ]
  },
  {
   "cell_type": "code",
   "execution_count": 11,
   "id": "93cd231b-57a2-4342-9482-677c415c0897",
   "metadata": {},
   "outputs": [
    {
     "name": "stdout",
     "output_type": "stream",
     "text": [
      "new_str=format_str % values->Hello,Python and Grasshopper!\n",
      "new_str_2=format_str_2 % (pi,3.1415926)->Pi with three decimals:3.142,and enter a value with percent sign:3.14 %\n"
     ]
    }
   ],
   "source": [
    "#%s称为转换说明符\n",
    "format_str=\"Hello,%s and %s!\"\n",
    "values=(\"Python\",\"Grasshopper\")\n",
    "new_str=format_str % values\n",
    "print(\"new_str=format_str % values->{}\".format(new_str))\n",
    "\n",
    "format_str_2=\"Pi with three decimals:%.3f,and enter a value with percent sign:%.2f %%\" #如果字符串里包含实际的%，则通过%%即两个百分号进行转义\n",
    "\n",
    "from math import pi\n",
    "new_str_2=format_str_2 % (pi,3.1415926)\n",
    "print(\"new_str_2=format_str_2 % (pi,3.1415926)->{}\".format(new_str_2))\n"
   ]
  },
  {
   "cell_type": "code",
   "execution_count": 12,
   "id": "fb300243-60b3-4d40-bee0-8fae787cad5e",
   "metadata": {},
   "outputs": [
    {
     "name": "stdout",
     "output_type": "stream",
     "text": [
      "lst_1=[29, 31, 33, 35]\n",
      "__________________________________________________\n",
      "for i in lst_1:\n",
      "29\n",
      "31\n",
      "33\n",
      "35\n",
      "for i in range(len(lst_1)):\n",
      "idx=0,val=29\n",
      "idx=1,val=31\n",
      "idx=2,val=33\n",
      "idx=3,val=35\n",
      "++++++++++++++++++++++++++++++++++++++++++++++++++\n",
      "dic_4={'a': 2, 'b': 3, 'c': 6, 'd': 0}\n",
      "__________________________________________________\n",
      "for k in dic_4:\n",
      "a\n",
      "b\n",
      "c\n",
      "d\n",
      "for k,v in dic_4.items():\n",
      "key=a,val=2\n",
      "key=b,val=3\n",
      "key=c,val=6\n",
      "key=d,val=0\n"
     ]
    }
   ],
   "source": [
    "#for循环语句\n",
    "lst_1=list(range(29,37,2))\n",
    "print(\"lst_1={}\".format(lst_1))\n",
    "print(\"_\"*50)\n",
    "print(\"for i in lst_1:\")\n",
    "for i in lst_1:\n",
    "    print(i)\n",
    "print(\"for i in range(len(lst_1)):\")\n",
    "for i in range(len(lst_1)):\n",
    "    print(\"idx={},val={}\".format(i,lst_1[i]))\n",
    "print(\"+\"*50)   \n",
    "dic_4=dict(a=2,b=3,c=6,d=0)\n",
    "print(\"dic_4={}\".format(dic_4))\n",
    "print(\"_\"*50)\n",
    "print(\"for k in dic_4:\")\n",
    "for k in dic_4:\n",
    "    print(k)\n",
    "print(\"for k,v in dic_4.items():\")\n",
    "for k,v in dic_4.items():\n",
    "    print(\"key={},val={}\".format(k,v))\n"
   ]
  },
  {
   "cell_type": "code",
   "execution_count": 13,
   "id": "bf1905ef-44f2-4430-b617-72306ac21763",
   "metadata": {},
   "outputs": [
    {
     "name": "stdout",
     "output_type": "stream",
     "text": [
      "x=1\n",
      "x=11\n",
      "x=21\n",
      "x=31\n",
      "x=41\n",
      "x=51\n",
      "x=61\n",
      "x=71\n",
      "x=81\n",
      "x=91\n"
     ]
    }
   ],
   "source": [
    "#while循环语句\n",
    "x=1\n",
    "while x<=100:\n",
    "    print(\"x={}\".format(x))\n",
    "    x+=10 #增量赋值; x*=2     \n"
   ]
  },
  {
   "cell_type": "code",
   "execution_count": 14,
   "id": "e8ab8d37-c420-49d8-9d51-bb2e55f1333c",
   "metadata": {},
   "outputs": [
    {
     "name": "stdout",
     "output_type": "stream",
     "text": [
      "zip_lst=zip(lst_a,lst_b)-><zip object at 0x00000265BB7ACC00>\n",
      "dict(zip_lst)->{0: 'point_a', 1: 'point_b', 2: 'point_c', 3: 'point_d'}\n",
      "0 point_a\n",
      "1 point_b\n",
      "2 point_c\n",
      "3 point_d\n",
      "a=(0, 1, 2, 3),b=('point_a', 'point_b', 'point_c', 'point_d')\n"
     ]
    }
   ],
   "source": [
    "#并行迭代\n",
    "lst_a=[0,1,2,3]\n",
    "lst_b=['point_a','point_b','point_c','point_d']\n",
    "zip_lst=zip(lst_a,lst_b) #The zip() function takes iterables (can be zero or more), aggregates them in a tuple, and returns it.\n",
    "print(\"zip_lst=zip(lst_a,lst_b)->{}\".format(zip_lst))\n",
    "print(\"dict(zip_lst)->{}\".format(dict(zip_lst)))\n",
    "\n",
    "zip_lst=zip(lst_a,lst_b) #迭代对象临时存储，读取完后为空\n",
    "for a,b in zip_lst:\n",
    "    print(a,b)\n",
    "    \n",
    "zip_lst=zip(lst_a,lst_b)\n",
    "a,b=zip(*zip_lst)\n",
    "print(\"a={},b={}\".format(a,b))\n"
   ]
  },
  {
   "cell_type": "code",
   "execution_count": 15,
   "id": "f9155616-7039-453d-8f83-ee698dbbee88",
   "metadata": {},
   "outputs": [
    {
     "name": "stdout",
     "output_type": "stream",
     "text": [
      "dic_4={0: 'point_a', 1: 'point_b', 2: 'point_c', 3: 'point_d'}\n",
      "dict((i,v) for i,v in enumerate(lst_c))->{0: 'point_a', 1: 'point_b', 2: 'point_c', 3: 'point_d'}\n",
      "__________________________________________________\n",
      "0:0,point_a\n",
      "1:1,point_b\n",
      "2:2,point_c\n",
      "3:3,point_d\n"
     ]
    }
   ],
   "source": [
    "#编号迭代\n",
    "lst_c=['point_a','point_b','point_c','point_d']\n",
    "dic_4={}\n",
    "for idx,value in enumerate(lst_c):\n",
    "    dic_4[idx]=value\n",
    "print(\"dic_4={}\".format(dic_4))\n",
    "print(\"dict((i,v) for i,v in enumerate(lst_c))->{}\".format(dict((i,v) for i,v in enumerate(lst_c)))) #list comprehension\n",
    "print(\"_\"*50)\n",
    "for i,(a,b) in enumerate(zip(lst_a,lst_b)):\n",
    "    print('%d:%s,%s'%(i,a,b))\n"
   ]
  },
  {
   "cell_type": "code",
   "execution_count": 17,
   "id": "160ad1ec-7834-4570-b064-af2d0cb4eb7b",
   "metadata": {},
   "outputs": [
    {
     "name": "stdout",
     "output_type": "stream",
     "text": [
      "Positive and larger than or equal to 10.\n"
     ]
    }
   ],
   "source": [
    "#条件语句\n",
    "x=10\n",
    "if x<0:\n",
    "    print('It is negative.')\n",
    "elif x==0:\n",
    "    print('Equal to zero.')\n",
    "elif 0<x<10:\n",
    "    print('Positive but smaller than 10')\n",
    "else:\n",
    "    print('Positive and larger than or equal to 10.')\n",
    "\n"
   ]
  },
  {
   "cell_type": "code",
   "execution_count": 18,
   "id": "bb79496f-21a3-4088-b07d-851d67040b47",
   "metadata": {},
   "outputs": [],
   "source": [
    "#定义函数\n",
    "def simple_func(x,y):\n",
    "    z=pow(x,2)+y\n",
    "    return z\n"
   ]
  },
  {
   "cell_type": "code",
   "execution_count": 19,
   "id": "59cbaec1-1154-4b98-b122-614cc8ab8d99",
   "metadata": {},
   "outputs": [
    {
     "name": "stdout",
     "output_type": "stream",
     "text": [
      "simple_func(3,7)->16\n",
      "simple_func(7,3)->52\n",
      "simple_func(y=7,x=3)->16\n"
     ]
    }
   ],
   "source": [
    "print(\"simple_func(3,7)->{}\".format(simple_func(3,7)))\n",
    "print(\"simple_func(7,3)->{}\".format(simple_func(7,3)))\n",
    "print(\"simple_func(y=7,x=3)->{}\".format(simple_func(y=7,x=3)))\n"
   ]
  },
  {
   "cell_type": "code",
   "execution_count": 20,
   "id": "0ab1dbce-0d0a-4c94-a9bd-f700f566b45e",
   "metadata": {},
   "outputs": [
    {
     "name": "stdout",
     "output_type": "stream",
     "text": [
      "fibonacci(6,9)->[5, 8, 13, 21, 34, 55, 89, 144, 233]\n",
      "fibonacci(7,9)->[8, 13, 21, 34, 55, 89, 144, 233, 377]\n"
     ]
    }
   ],
   "source": [
    "#斐波那契数列\n",
    "def fibonacci(s,count): #定义fib函数的方法较笨\n",
    "    fib_lst=[0,1]\n",
    "    fib_part=[]\n",
    "    if s==0 or s==1:\n",
    "        fib_part[:]=fib_lst\n",
    "        for i in range(count-2):\n",
    "            fib_part.append(fib_part[-1]+fib_part[-2])\n",
    "    else:\n",
    "        while True:\n",
    "            fib_lst[:]=[fib_lst[1],fib_lst[0]+fib_lst[1]]\n",
    "            #print(fib_lst)\n",
    "            if fib_lst[1]-s>=0:break\n",
    "        fib_part[:]=fib_lst\n",
    "        if abs(fib_lst[0]-s)>=abs(fib_lst[1]-s):\n",
    "            for i in range(count-1):\n",
    "                fib_part.append(fib_part[-1]+fib_part[-2])\n",
    "            fib_part.pop(0)\n",
    "        else:\n",
    "            for i in range(count-2):\n",
    "                fib_part.append(fib_part[-1]+fib_part[-2])\n",
    "    return fib_part\n",
    "\n",
    "print(\"fibonacci(6,9)->{}\".format(fibonacci(6,9)))\n",
    "print(\"fibonacci(7,9)->{}\".format(fibonacci(7,9)))\n"
   ]
  },
  {
   "cell_type": "code",
   "execution_count": 21,
   "id": "d96d7588-6bc1-4604-b666-86b8341576e9",
   "metadata": {},
   "outputs": [
    {
     "name": "stdout",
     "output_type": "stream",
     "text": [
      "5040\n"
     ]
    }
   ],
   "source": [
    "#递归\n",
    "def factorial(n):\n",
    "    if n==1:\n",
    "        return 1\n",
    "    else:\n",
    "        return n*factorial(n-1)\n",
    "print(factorial(7))\n"
   ]
  },
  {
   "cell_type": "code",
   "execution_count": 22,
   "id": "c765b3e5-fdc6-4034-ade5-a000cce329d7",
   "metadata": {},
   "outputs": [],
   "source": [
    "#定义类\n",
    "class Bird:\n",
    "    fly='Whirring' #美 /wɜːr/ \n",
    "    def __init__(self):\n",
    "        self.hungry=True\n",
    "    def eat(self):\n",
    "        if self.hungry:\n",
    "            print('Aaaah...')\n",
    "            self.hungry=False\n",
    "        else:\n",
    "            print('No.Thanks!')\n",
    "\n",
    "class Apodidae(Bird):  #/'æpədədi:/\n",
    "    def __init__(self):\n",
    "        super(Apodidae,self).__init__()\n",
    "        self.sound='Squawk!' #美 /skwɔːk/ \n",
    "    def sing(self):\n",
    "        print(self.sound)\n"
   ]
  },
  {
   "cell_type": "code",
   "execution_count": 23,
   "id": "346de8fa-0088-4499-8991-07e4cd59ed85",
   "metadata": {},
   "outputs": [
    {
     "name": "stdout",
     "output_type": "stream",
     "text": [
      "swift.fly->Whirring\n",
      "swift.eat()->\n",
      "Aaaah...\n",
      "swift.eat()->\n",
      "No.Thanks!\n",
      "swift.sing()->\n",
      "Squawk!\n"
     ]
    }
   ],
   "source": [
    "swift=Apodidae()\n",
    "print(\"swift.fly->{}\".format(swift.fly))\n",
    "print(\"swift.eat()->\")\n",
    "swift.eat()\n",
    "print(\"swift.eat()->\")\n",
    "swift.eat()\n",
    "print(\"swift.sing()->\")\n",
    "swift.sing()\n"
   ]
  },
  {
   "cell_type": "code",
   "execution_count": 24,
   "id": "0bf13cac-61bd-4588-9963-ab4bebb2d22b",
   "metadata": {},
   "outputs": [
    {
     "name": "stdout",
     "output_type": "stream",
     "text": [
      "blackswift.sing()->\n",
      "Squawk!\n",
      "scarceswift.sing()->\n",
      "Squawk!\n"
     ]
    }
   ],
   "source": [
    "#类与类实例\n",
    "blackswift=Apodidae()\n",
    "scarceswift=Apodidae()\n",
    "print(\"blackswift.sing()->\")\n",
    "blackswift.sing()\n",
    "print(\"scarceswift.sing()->\")\n",
    "scarceswift.sing()\n"
   ]
  },
  {
   "cell_type": "code",
   "execution_count": 25,
   "id": "c66dc092-a326-4fd3-a1fb-90d2a1d714b7",
   "metadata": {},
   "outputs": [
    {
     "name": "stdout",
     "output_type": "stream",
     "text": [
      "blackswift.fly->Whirring\n",
      "blackswift.fly after redefining the blackswif's attribute->humming\n",
      "scarceswift.fly->Whirring\n"
     ]
    }
   ],
   "source": [
    "#类的属性\n",
    "print(\"blackswift.fly->{}\".format(blackswift.fly))\n",
    "blackswift.fly='humming' #重新赋予实例的属性\n",
    "print(\"blackswift.fly after redefining the blackswif's attribute->{}\".format(blackswift.fly))\n",
    "print(\"scarceswift.fly->{}\".format(scarceswift.fly))\n"
   ]
  },
  {
   "cell_type": "code",
   "execution_count": 31,
   "id": "864be649-5b82-4e23-b6ab-04afc95c5004",
   "metadata": {},
   "outputs": [],
   "source": [
    "#迭代\n",
    "class Fibs():\n",
    "    def __init__(self):\n",
    "        self.a=0\n",
    "        self.b=1\n",
    "    def next(self):  #实现迭代器的next方法\n",
    "        self.a,self.b=self.b,self.a+self.b\n",
    "        return self.a\n",
    "    def __iter__(self): #实现迭代方法\n",
    "        return self\n",
    "\n",
    "\n"
   ]
  },
  {
   "cell_type": "code",
   "execution_count": 32,
   "id": "9d05c3ce-79c6-4a0e-8f8e-8822d1b4d482",
   "metadata": {},
   "outputs": [
    {
     "name": "stdout",
     "output_type": "stream",
     "text": [
      "fa=[1, 1, 2, 3, 5, 8, 13, 21, 34]\n",
      "fb=[55, 89, 144, 233, 377]\n"
     ]
    }
   ],
   "source": [
    "f=Fibs()\n",
    "fa=[]\n",
    "fb=[]\n",
    "for i in range(9):\n",
    "    fa.append(f.next())\n",
    "print(\"fa={}\".format(fa))\n",
    "for i in range(5):\n",
    "    fb.append(f.next())\n",
    "print(\"fb={}\".format(fb))\n"
   ]
  },
  {
   "cell_type": "code",
   "execution_count": 33,
   "id": "60456268-1e7a-4fbb-a8f3-06fe892c1d50",
   "metadata": {},
   "outputs": [],
   "source": [
    "#生成器方法\n",
    "def flatten(lst): #定义生成器（包含yield语句的函数）\n",
    "    try: #使用语句try\\except捕捉异常        \n",
    "        for n_lst in lst:  #循环列表            \n",
    "            for m in flatten(n_lst): #使用递归的方法循环子列表                \n",
    "                yield m  #使用yield语句，每次产生多个值，当返回一个值时函数就会被冻结，当再次激活时，从停止的那点开始执行\n",
    "    except TypeError:  #当函数被告知展开一个元素时，引发TypeError异常，生成器返回一个值\n",
    "        yield lst #生成器返回引发异常的一个值        \n"
   ]
  },
  {
   "cell_type": "code",
   "execution_count": 34,
   "id": "38103e68-b16a-45f9-9d92-232449358b8d",
   "metadata": {},
   "outputs": [],
   "source": [
    "#建立无穷列表\n",
    "def infinite():\n",
    "    n=0\n",
    "    while True:\n",
    "        yield 'num#'+str(n)\n",
    "        n+=1\n"
   ]
  },
  {
   "cell_type": "code",
   "execution_count": 35,
   "id": "03443dec-9750-435b-9859-8a5361e553c4",
   "metadata": {},
   "outputs": [
    {
     "name": "stdout",
     "output_type": "stream",
     "text": [
      "next(n)->num#0\n",
      "next(n)->num#1\n",
      "next(n)->num#2\n",
      "[next(n) for i in range(5)]->['num#3', 'num#4', 'num#5', 'num#6', 'num#7']\n"
     ]
    }
   ],
   "source": [
    "n=infinite()\n",
    "print(\"next(n)->{}\".format(next(n)))\n",
    "print(\"next(n)->{}\".format(next(n)))\n",
    "print(\"next(n)->{}\".format(next(n)))\n",
    "print(\"[next(n) for i in range(5)]->{}\".format([next(n) for i in range(5)]))\n"
   ]
  },
  {
   "cell_type": "code",
   "execution_count": 36,
   "id": "b5552d02-5cd0-4063-8f5e-0821da65bca1",
   "metadata": {},
   "outputs": [
    {
     "name": "stdout",
     "output_type": "stream",
     "text": [
      "[[(2*pi*(2*(u/(n-1))-1),2*pi*(2*(v/(n-1))-1)) for u in range(n)] for v in range(n)]->[[(-6.283185307179586, -6.283185307179586), (0.0, -6.283185307179586), (6.283185307179586, -6.283185307179586)], [(-6.283185307179586, 0.0), (0.0, 0.0), (6.283185307179586, 0.0)], [(-6.283185307179586, 6.283185307179586), (0.0, 6.283185307179586), (6.283185307179586, 6.283185307179586)]]\n",
      "__________________________________________________\n",
      "([(2*pi*(2*(u/(n-1))-1),2*pi*(2*(v/(n-1))-1)) for u in range(n)] for v in range(n))-><generator object <genexpr> at 0x00000265BB838E40>\n",
      "next(gen)->[(-6.283185307179586, -6.283185307179586), (0.0, -6.283185307179586), (6.283185307179586, -6.283185307179586)]\n",
      "next(gen)->[(-6.283185307179586, 0.0), (0.0, 0.0), (6.283185307179586, 0.0)]\n"
     ]
    }
   ],
   "source": [
    "#生成器表达式\n",
    "n=3\n",
    "print(\"[[(2*pi*(2*(u/(n-1))-1),2*pi*(2*(v/(n-1))-1)) for u in range(n)] for v in range(n)]->{}\".format([[(2*pi*(2*(u/(n-1))-1),2*pi*(2*(v/(n-1))-1)) for u in range(n)] for v in range(n)]))\n",
    "print(\"_\"*50)\n",
    "print(\"([(2*pi*(2*(u/(n-1))-1),2*pi*(2*(v/(n-1))-1)) for u in range(n)] for v in range(n))->{}\".format(([(2*pi*(2*(u/(n-1))-1),2*pi*(2*(v/(n-1))-1)) for u in range(n)] for v in range(n))))\n",
    "gen=([(2*pi*(2*(u/(n-1))-1),2*pi*(2*(v/(n-1))-1)) for u in range(n)] for v in range(n))\n",
    "print(\"next(gen)->{}\".format(next(gen)))\n",
    "print(\"next(gen)->{}\".format(next(gen)))\n"
   ]
  },
  {
   "cell_type": "code",
   "execution_count": 38,
   "id": "3a39b96b-8f52-48f1-9ab9-b292ed82e096",
   "metadata": {},
   "outputs": [
    {
     "name": "stdout",
     "output_type": "stream",
     "text": [
      "f_convert_a('3.1415')->3.1415\n",
      "f_convert_a('string')->string\n",
      "f_convert_a(3,6,7)->(3, 6, 7)\n"
     ]
    }
   ],
   "source": [
    "#try异常捕捉\n",
    "def f_convert_a(x):\n",
    "    try:\n",
    "        return float(x)\n",
    "    except:\n",
    "        return x\n",
    "print(\"f_convert_a('3.1415')->{}\".format(f_convert_a('3.1415')))    \n",
    "print(\"f_convert_a('string')->{}\".format(f_convert_a('string')))  \n",
    "print(\"f_convert_a(3,6,7)->{}\".format(f_convert_a((3,6,7))))  \n"
   ]
  },
  {
   "cell_type": "code",
   "execution_count": 39,
   "id": "031e7b48-8ab4-4b41-859e-510dc2a1b1c8",
   "metadata": {},
   "outputs": [
    {
     "name": "stdout",
     "output_type": "stream",
     "text": [
      "f_convert_c('3.1415')->3.1415\n",
      "f_convert_c('string')->string\n",
      "(3, 6, 7) TypeError\n",
      "f_convert_c(3,6,7)->None\n"
     ]
    }
   ],
   "source": [
    "#使用多条except子句可以指定多个异常处理代码块\n",
    "def f_convert_c(x):\n",
    "    try:\n",
    "        return float(x)\n",
    "    except ValueError:\n",
    "        return x\n",
    "    except TypeError:\n",
    "        print(x,'TypeError')\n",
    "print(\"f_convert_c('3.1415')->{}\".format(f_convert_c('3.1415')))    \n",
    "print(\"f_convert_c('string')->{}\".format(f_convert_c('string')))  \n",
    "print(\"f_convert_c(3,6,7)->{}\".format(f_convert_c((3,6,7))))         \n"
   ]
  },
  {
   "cell_type": "code",
   "execution_count": 43,
   "id": "9fa65883-d851-40e7-a902-64ac25648a97",
   "metadata": {},
   "outputs": [
    {
     "name": "stdout",
     "output_type": "stream",
     "text": [
      "f_convert_d('3.1415')->3.1415\n",
      "string ValueError or TypeError\n",
      "f_convert_d('string')->None\n",
      "(3, 6, 7) ValueError or TypeError\n",
      "f_convert_d(3,6,7)->None\n"
     ]
    }
   ],
   "source": [
    "#处理程序也可以捕捉多种类型的异常\n",
    "def f_convert_d(x):\n",
    "    try:\n",
    "        return float(x)\n",
    "    except (ValueError,TypeError):\n",
    "        print(x,'ValueError or TypeError')\n",
    "print(\"f_convert_d('3.1415')->{}\".format(f_convert_d('3.1415')))    \n",
    "print(\"f_convert_d('string')->{}\".format(f_convert_d('string')))  \n",
    "print(\"f_convert_d(3,6,7)->{}\".format(f_convert_d((3,6,7)))) \n"
   ]
  },
  {
   "cell_type": "code",
   "execution_count": 44,
   "id": "c483efc8-cf9f-4589-b033-29da12676ad3",
   "metadata": {},
   "outputs": [
    {
     "name": "stdout",
     "output_type": "stream",
     "text": [
      "f_convert_f('3.1415')->3.1415\n",
      "f_convert_f('string')->None\n",
      "f_convert_f(3,6,7)->None\n"
     ]
    }
   ],
   "source": [
    "#使用pass语句可以忽略异常\n",
    "def f_convert_f(x):\n",
    "    try:\n",
    "        return float(x)\n",
    "    except (ValueError,TypeError) as e:\n",
    "        pass\n",
    "print(\"f_convert_f('3.1415')->{}\".format(f_convert_f('3.1415')))    \n",
    "print(\"f_convert_f('string')->{}\".format(f_convert_f('string')))  \n",
    "print(\"f_convert_f(3,6,7)->{}\".format(f_convert_f((3,6,7))))     \n"
   ]
  },
  {
   "cell_type": "code",
   "execution_count": null,
   "id": "015f933f-9b98-4cfc-8d5e-152f81d4990b",
   "metadata": {},
   "outputs": [],
   "source": []
  }
 ],
 "metadata": {
  "kernelspec": {
   "display_name": "Python 3",
   "language": "python",
   "name": "python3"
  },
  "language_info": {
   "codemirror_mode": {
    "name": "ipython",
    "version": 3
   },
   "file_extension": ".py",
   "mimetype": "text/x-python",
   "name": "python",
   "nbconvert_exporter": "python",
   "pygments_lexer": "ipython3",
   "version": "3.8.8"
  }
 },
 "nbformat": 4,
 "nbformat_minor": 5
}
